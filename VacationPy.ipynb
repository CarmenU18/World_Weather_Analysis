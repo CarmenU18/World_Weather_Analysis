{
 "cells": [
  {
   "cell_type": "markdown",
   "id": "c2f7d264",
   "metadata": {},
   "source": [
    "## Create Heatmaps for Weather Parameters"
   ]
  },
  {
   "cell_type": "code",
   "execution_count": 1,
   "id": "bc4f43f9",
   "metadata": {},
   "outputs": [],
   "source": [
    "# Import the dependencies.\n",
    "# !jupyter nbextension enable --py gmaps\n",
    "# !jupyter nbextension enable --py widgetsnbextension\n",
    "import pandas as pd\n",
    "import gmaps\n",
    "import requests\n",
    "# Import the API key.\n",
    "from config import g_key"
   ]
  },
  {
   "cell_type": "code",
   "execution_count": 2,
   "id": "c8c4be7f",
   "metadata": {},
   "outputs": [
    {
     "data": {
      "text/html": [
       "<div>\n",
       "<style scoped>\n",
       "    .dataframe tbody tr th:only-of-type {\n",
       "        vertical-align: middle;\n",
       "    }\n",
       "\n",
       "    .dataframe tbody tr th {\n",
       "        vertical-align: top;\n",
       "    }\n",
       "\n",
       "    .dataframe thead th {\n",
       "        text-align: right;\n",
       "    }\n",
       "</style>\n",
       "<table border=\"1\" class=\"dataframe\">\n",
       "  <thead>\n",
       "    <tr style=\"text-align: right;\">\n",
       "      <th></th>\n",
       "      <th>City_ID</th>\n",
       "      <th>City</th>\n",
       "      <th>Country</th>\n",
       "      <th>Date</th>\n",
       "      <th>Lat</th>\n",
       "      <th>Lng</th>\n",
       "      <th>Max Temp</th>\n",
       "      <th>Humidity</th>\n",
       "      <th>Cloudiness</th>\n",
       "      <th>Wind Speed</th>\n",
       "    </tr>\n",
       "  </thead>\n",
       "  <tbody>\n",
       "    <tr>\n",
       "      <th>0</th>\n",
       "      <td>0</td>\n",
       "      <td>Clyde River</td>\n",
       "      <td>CA</td>\n",
       "      <td>2021-07-24 00:55:51</td>\n",
       "      <td>70.4692</td>\n",
       "      <td>-68.5914</td>\n",
       "      <td>37.63</td>\n",
       "      <td>87</td>\n",
       "      <td>75</td>\n",
       "      <td>14.97</td>\n",
       "    </tr>\n",
       "    <tr>\n",
       "      <th>1</th>\n",
       "      <td>1</td>\n",
       "      <td>Atuona</td>\n",
       "      <td>PF</td>\n",
       "      <td>2021-07-24 00:50:57</td>\n",
       "      <td>-9.8000</td>\n",
       "      <td>-139.0333</td>\n",
       "      <td>77.02</td>\n",
       "      <td>78</td>\n",
       "      <td>25</td>\n",
       "      <td>11.14</td>\n",
       "    </tr>\n",
       "    <tr>\n",
       "      <th>2</th>\n",
       "      <td>2</td>\n",
       "      <td>Hamilton</td>\n",
       "      <td>US</td>\n",
       "      <td>2021-07-24 00:54:13</td>\n",
       "      <td>39.1834</td>\n",
       "      <td>-84.5333</td>\n",
       "      <td>78.89</td>\n",
       "      <td>77</td>\n",
       "      <td>13</td>\n",
       "      <td>3.62</td>\n",
       "    </tr>\n",
       "    <tr>\n",
       "      <th>3</th>\n",
       "      <td>3</td>\n",
       "      <td>Vagay</td>\n",
       "      <td>RU</td>\n",
       "      <td>2021-07-24 00:55:52</td>\n",
       "      <td>57.9375</td>\n",
       "      <td>69.0217</td>\n",
       "      <td>62.92</td>\n",
       "      <td>97</td>\n",
       "      <td>100</td>\n",
       "      <td>4.27</td>\n",
       "    </tr>\n",
       "    <tr>\n",
       "      <th>4</th>\n",
       "      <td>4</td>\n",
       "      <td>Talkha</td>\n",
       "      <td>EG</td>\n",
       "      <td>2021-07-24 00:55:52</td>\n",
       "      <td>31.0539</td>\n",
       "      <td>31.3779</td>\n",
       "      <td>72.28</td>\n",
       "      <td>77</td>\n",
       "      <td>0</td>\n",
       "      <td>6.08</td>\n",
       "    </tr>\n",
       "  </tbody>\n",
       "</table>\n",
       "</div>"
      ],
      "text/plain": [
       "   City_ID         City Country                 Date      Lat       Lng  \\\n",
       "0        0  Clyde River      CA  2021-07-24 00:55:51  70.4692  -68.5914   \n",
       "1        1       Atuona      PF  2021-07-24 00:50:57  -9.8000 -139.0333   \n",
       "2        2     Hamilton      US  2021-07-24 00:54:13  39.1834  -84.5333   \n",
       "3        3        Vagay      RU  2021-07-24 00:55:52  57.9375   69.0217   \n",
       "4        4       Talkha      EG  2021-07-24 00:55:52  31.0539   31.3779   \n",
       "\n",
       "   Max Temp  Humidity  Cloudiness  Wind Speed  \n",
       "0     37.63        87          75       14.97  \n",
       "1     77.02        78          25       11.14  \n",
       "2     78.89        77          13        3.62  \n",
       "3     62.92        97         100        4.27  \n",
       "4     72.28        77           0        6.08  "
      ]
     },
     "execution_count": 2,
     "metadata": {},
     "output_type": "execute_result"
    }
   ],
   "source": [
    "# Store the CSV you saved created in part one into a DataFrame.\n",
    "city_data_df = pd.read_csv(\"weather_data/cities.csv\")\n",
    "city_data_df.head()"
   ]
  },
  {
   "cell_type": "code",
   "execution_count": 3,
   "id": "0370a6cf",
   "metadata": {},
   "outputs": [
    {
     "data": {
      "text/plain": [
       "City_ID         int64\n",
       "City           object\n",
       "Country        object\n",
       "Date           object\n",
       "Lat           float64\n",
       "Lng           float64\n",
       "Max Temp      float64\n",
       "Humidity        int64\n",
       "Cloudiness      int64\n",
       "Wind Speed    float64\n",
       "dtype: object"
      ]
     },
     "execution_count": 3,
     "metadata": {},
     "output_type": "execute_result"
    }
   ],
   "source": [
    "# Get data types\n",
    "city_data_df.dtypes"
   ]
  },
  {
   "cell_type": "code",
   "execution_count": 4,
   "id": "a2515b13",
   "metadata": {},
   "outputs": [],
   "source": [
    "# Create a Maximum Temperature Heatmap\n",
    "\n",
    "# 1. Configure gmaps to use your Google API key.\n",
    "\n",
    "gmaps.configure(api_key=g_key)"
   ]
  },
  {
   "cell_type": "code",
   "execution_count": 5,
   "id": "b3c9b989",
   "metadata": {},
   "outputs": [
    {
     "data": {
      "application/vnd.jupyter.widget-view+json": {
       "model_id": "ac969bf1a5ed4273862e308598cb8b42",
       "version_major": 2,
       "version_minor": 0
      },
      "text/plain": [
       "Figure(layout=FigureLayout(height='420px'))"
      ]
     },
     "metadata": {},
     "output_type": "display_data"
    }
   ],
   "source": [
    "# 2. Next, create the heatmap for the maximum temperature. The general syntax for creating a heatmap is as follows.\n",
    "\n",
    "# 1. Assign the locations to an array of latitude and longitude pairs.\n",
    "    # locations = [latitude, longitude]\n",
    "\n",
    "# Get the latitude and longitude\n",
    "\n",
    "locations = city_data_df[[\"Lat\", \"Lng\"]]\n",
    "\n",
    "# 2. Assign the weights variable to some values.\n",
    "    # temperatures = # an array of length equal to the locations array length\n",
    "\n",
    "# Get the maximum temperature.\n",
    "\n",
    "max_temp = city_data_df[\"Max Temp\"]\n",
    "\n",
    "# 3. Assign the figure variable to the gmaps.figure() attribute.\n",
    "\n",
    "fig = gmaps.figure()\n",
    "\n",
    "# 4. Assign the heatmap_layer variable to the heatmap_layer attribute and add in the locations.\n",
    "\n",
    "heat_layer = gmaps.heatmap_layer(locations, weights=max_temp)\n",
    "\n",
    "# 5. Add the heatmap layer.\n",
    "fig.add_layer(heat_layer)\n",
    "\n",
    "# 6. Call the figure to plot the data.\n",
    "fig"
   ]
  },
  {
   "cell_type": "code",
   "execution_count": 6,
   "id": "f43ac957",
   "metadata": {},
   "outputs": [],
   "source": [
    "# Google heatmaps do not plot negative numbers. If you have a maximum temperature that is less than 0 °F, \n",
    "# then you will get an InvalidWeightException error for this line of code:\n",
    "# heat_layer = gmaps.heatmap_layer(locations, weights=max_temp)\n",
    "# To remove the negative temperatures we can use a for loop to iterate through the max_temp and add the \n",
    "# temperatures that are greater than 0 °F to a new list\n",
    "\n",
    "# Get the maximum temperature.\n",
    "max_temp = city_data_df[\"Max Temp\"]\n",
    "temps = []\n",
    "for temp in max_temp:\n",
    "    temps.append(max(temp, 0))"
   ]
  },
  {
   "cell_type": "code",
   "execution_count": 7,
   "id": "20708183",
   "metadata": {},
   "outputs": [],
   "source": [
    "# Now change the following code in the heat_layer:\n",
    "\n",
    "heat_layer = gmaps.heatmap_layer(locations, weights=max_temp)\n",
    "\n",
    "# To look like the following:\n",
    "\n",
    "heat_layer = gmaps.heatmap_layer(locations, weights=temps)"
   ]
  },
  {
   "cell_type": "code",
   "execution_count": 9,
   "id": "feba22a0",
   "metadata": {},
   "outputs": [],
   "source": [
    "# Replace temps with our code for the list comprehension so our heat_layer code looks like the following:\n",
    "\n",
    "heat_layer = gmaps.heatmap_layer(locations, weights=[max(temp, 0) for temp in max_temp])"
   ]
  },
  {
   "cell_type": "code",
   "execution_count": 12,
   "id": "192c04ee",
   "metadata": {},
   "outputs": [
    {
     "data": {
      "application/vnd.jupyter.widget-view+json": {
       "model_id": "9d777fe3082a4da48e8f699dd79f99c9",
       "version_major": 2,
       "version_minor": 0
      },
      "text/plain": [
       "Figure(layout=FigureLayout(height='420px'))"
      ]
     },
     "metadata": {},
     "output_type": "display_data"
    }
   ],
   "source": [
    "# Opción 2. Añadiendo un centro y un nivel de zoom y Juntando los pasos anteriores\n",
    " \n",
    "# Get the maximum temperature.\n",
    "max_temp = city_data_df[\"Max Temp\"]\n",
    "temps = []\n",
    "for temp in max_temp:\n",
    "    temps.append(max(temp, 0))\n",
    "\n",
    "# Get the latitude and longitude\n",
    "\n",
    "locations = city_data_df[[\"Lat\", \"Lng\"]]\n",
    "\n",
    "# 2. Assign the weights variable to some values.\n",
    "    # temperatures = # an array of length equal to the locations array length\n",
    "\n",
    "# Get the maximum temperature.\n",
    "\n",
    "max_temp = city_data_df[\"Max Temp\"]\n",
    "\n",
    "# 3. Assign the figure variable to the gmaps.figure() attribute.\n",
    "   # We add a center and zoom level to the gmaps.figure()\n",
    "\n",
    "fig = gmaps.figure(center=(30.0, 31.0), zoom_level=1.5)\n",
    "\n",
    "# 4. Assign the heatmap_layer variable to the heatmap_layer attribute and add in the locations.\n",
    "\n",
    "heat_layer = gmaps.heatmap_layer(locations, weights=[max(temp, 0) for temp in max_temp])\n",
    "\n",
    "# 5. Add the heatmap layer.\n",
    "fig.add_layer(heat_layer)\n",
    "\n",
    "# 6. Call the figure to plot the data.\n",
    "fig"
   ]
  },
  {
   "cell_type": "code",
   "execution_count": 11,
   "id": "bd0c9718",
   "metadata": {},
   "outputs": [
    {
     "data": {
      "application/vnd.jupyter.widget-view+json": {
       "model_id": "8ba7e2ab202e489bb0a5d0216923a507",
       "version_major": 2,
       "version_minor": 0
      },
      "text/plain": [
       "Figure(layout=FigureLayout(height='420px'))"
      ]
     },
     "metadata": {},
     "output_type": "display_data"
    }
   ],
   "source": [
    "# Podemos añadir max_intensity para que cada medida tenga una mejor varianza de gradiente.\n",
    "# Podemos añadir punto_radio para que cada radio de medición sea mayor.\n",
    "\n",
    "# Let's modify our gmaps.heat_layer() attribute to \n",
    "# heat_layer = gmaps.heatmap_layer(locations, weights=temps, dissipating=False, max_intensity=300, point_radius=4) \n",
    "# and rerun our code\n",
    "\n",
    "# Get the latitude and longitude\n",
    "\n",
    "locations = city_data_df[[\"Lat\", \"Lng\"]]\n",
    "\n",
    "# 2. Assign the weights variable to some values.\n",
    "    # temperatures = # an array of length equal to the locations array length\n",
    "\n",
    "# Get the maximum temperature.\n",
    "\n",
    "max_temp = city_data_df[\"Max Temp\"]\n",
    "\n",
    "# 3. Assign the figure variable to the gmaps.figure() attribute.\n",
    "   # We add a center and zoom level to the gmaps.figure()\n",
    "\n",
    "fig = gmaps.figure(center=(30.0, 31.0), zoom_level=1.5)\n",
    "\n",
    "# 4. Assign the heatmap_layer variable to the heatmap_layer attribute and add in the locations.\n",
    "\n",
    "heat_layer = gmaps.heatmap_layer(locations, weights=temps, dissipating=False, max_intensity=300, point_radius=4)\n",
    "\n",
    "# 5. Add the heatmap layer.\n",
    "fig.add_layer(heat_layer)\n",
    "\n",
    "# 6. Call the figure to plot the data.\n",
    "fig"
   ]
  },
  {
   "cell_type": "code",
   "execution_count": 13,
   "id": "2b303434",
   "metadata": {},
   "outputs": [
    {
     "data": {
      "application/vnd.jupyter.widget-view+json": {
       "model_id": "5ff0400cd8bc49f693ff1ed965b45c47",
       "version_major": 2,
       "version_minor": 0
      },
      "text/plain": [
       "Figure(layout=FigureLayout(height='420px'))"
      ]
     },
     "metadata": {},
     "output_type": "display_data"
    }
   ],
   "source": [
    "# Create a Percent Humidity Heatmap\n",
    "# let's create the heatmap for humidity\n",
    "\n",
    "# Heatmap of percent humidity\n",
    "locations = city_data_df[[\"Lat\", \"Lng\"]]\n",
    "humidity = city_data_df[\"Humidity\"]\n",
    "fig = gmaps.figure(center=(30.0, 31.0), zoom_level=1.5)\n",
    "heat_layer = gmaps.heatmap_layer(locations, weights=humidity, dissipating=False, max_intensity=300, point_radius=4)\n",
    "\n",
    "fig.add_layer(heat_layer)\n",
    "\n",
    "# Call the figure to plot the data.\n",
    "fig"
   ]
  },
  {
   "cell_type": "code",
   "execution_count": 14,
   "id": "9fe1abe2",
   "metadata": {},
   "outputs": [
    {
     "data": {
      "application/vnd.jupyter.widget-view+json": {
       "model_id": "262ea954ff4c4940927d72132c1f7f61",
       "version_major": 2,
       "version_minor": 0
      },
      "text/plain": [
       "Figure(layout=FigureLayout(height='420px'))"
      ]
     },
     "metadata": {},
     "output_type": "display_data"
    }
   ],
   "source": [
    "# Create a Percent Cloudiness Heatmap\n",
    "\n",
    "# let's create the heatmap for Cloudiness\n",
    "\n",
    "# Heatmap of percent humidity\n",
    "locations = city_data_df[[\"Lat\", \"Lng\"]]\n",
    "clouds = city_data_df[\"Cloudiness\"]\n",
    "fig = gmaps.figure(center=(30.0, 31.0), zoom_level=1.5)\n",
    "heat_layer = gmaps.heatmap_layer(locations, weights=clouds, dissipating=False, max_intensity=300, point_radius=4)\n",
    "\n",
    "fig.add_layer(heat_layer)\n",
    "\n",
    "# Call the figure to plot the data.\n",
    "fig"
   ]
  },
  {
   "cell_type": "code",
   "execution_count": 15,
   "id": "894bedd3",
   "metadata": {},
   "outputs": [
    {
     "data": {
      "application/vnd.jupyter.widget-view+json": {
       "model_id": "1c26a099307b4f01aa78e8784d9c0ccc",
       "version_major": 2,
       "version_minor": 0
      },
      "text/plain": [
       "Figure(layout=FigureLayout(height='420px'))"
      ]
     },
     "metadata": {},
     "output_type": "display_data"
    }
   ],
   "source": [
    "# Create a Wind Speed Heatmap\n",
    "\n",
    "# let's create the heatmap for Wind Speed\n",
    "\n",
    "# Heatmap of percent humidity\n",
    "locations = city_data_df[[\"Lat\", \"Lng\"]]\n",
    "wind = city_data_df[\"Wind Speed\"]\n",
    "fig = gmaps.figure(center=(30.0, 31.0), zoom_level=1.5)\n",
    "heat_layer = gmaps.heatmap_layer(locations, weights=wind, dissipating=False, max_intensity=300, point_radius=4)\n",
    "\n",
    "fig.add_layer(heat_layer)\n",
    "\n",
    "# Call the figure to plot the data.\n",
    "fig"
   ]
  },
  {
   "cell_type": "markdown",
   "id": "399c53c4",
   "metadata": {},
   "source": [
    "## Get Vacation Criteria"
   ]
  },
  {
   "cell_type": "code",
   "execution_count": 16,
   "id": "749fe6b3",
   "metadata": {},
   "outputs": [
    {
     "name": "stdout",
     "output_type": "stream",
     "text": [
      "What is the minimum temperature you would like for your trip? 75\n",
      "What is the maximum temperature you would like for your trip? 90\n"
     ]
    }
   ],
   "source": [
    "# To convert the input to a floating-point decimal number, wrap the input() \n",
    "# statement with the float() method, like this: float(input())\n",
    "\n",
    "# Ask the customer to add a minimum and maximum temperature value.\n",
    "min_temp = float(input(\"What is the minimum temperature you would like for your trip? \"))\n",
    "max_temp = float(input(\"What is the maximum temperature you would like for your trip? \"))"
   ]
  },
  {
   "cell_type": "code",
   "execution_count": 17,
   "id": "6c3f4f61",
   "metadata": {},
   "outputs": [
    {
     "data": {
      "text/html": [
       "<div>\n",
       "<style scoped>\n",
       "    .dataframe tbody tr th:only-of-type {\n",
       "        vertical-align: middle;\n",
       "    }\n",
       "\n",
       "    .dataframe tbody tr th {\n",
       "        vertical-align: top;\n",
       "    }\n",
       "\n",
       "    .dataframe thead th {\n",
       "        text-align: right;\n",
       "    }\n",
       "</style>\n",
       "<table border=\"1\" class=\"dataframe\">\n",
       "  <thead>\n",
       "    <tr style=\"text-align: right;\">\n",
       "      <th></th>\n",
       "      <th>City_ID</th>\n",
       "      <th>City</th>\n",
       "      <th>Country</th>\n",
       "      <th>Date</th>\n",
       "      <th>Lat</th>\n",
       "      <th>Lng</th>\n",
       "      <th>Max Temp</th>\n",
       "      <th>Humidity</th>\n",
       "      <th>Cloudiness</th>\n",
       "      <th>Wind Speed</th>\n",
       "    </tr>\n",
       "  </thead>\n",
       "  <tbody>\n",
       "    <tr>\n",
       "      <th>1</th>\n",
       "      <td>1</td>\n",
       "      <td>Atuona</td>\n",
       "      <td>PF</td>\n",
       "      <td>2021-07-24 00:50:57</td>\n",
       "      <td>-9.8000</td>\n",
       "      <td>-139.0333</td>\n",
       "      <td>77.02</td>\n",
       "      <td>78</td>\n",
       "      <td>25</td>\n",
       "      <td>11.14</td>\n",
       "    </tr>\n",
       "    <tr>\n",
       "      <th>2</th>\n",
       "      <td>2</td>\n",
       "      <td>Hamilton</td>\n",
       "      <td>US</td>\n",
       "      <td>2021-07-24 00:54:13</td>\n",
       "      <td>39.1834</td>\n",
       "      <td>-84.5333</td>\n",
       "      <td>78.89</td>\n",
       "      <td>77</td>\n",
       "      <td>13</td>\n",
       "      <td>3.62</td>\n",
       "    </tr>\n",
       "    <tr>\n",
       "      <th>7</th>\n",
       "      <td>7</td>\n",
       "      <td>Samarai</td>\n",
       "      <td>PG</td>\n",
       "      <td>2021-07-24 00:55:53</td>\n",
       "      <td>-10.6167</td>\n",
       "      <td>150.6667</td>\n",
       "      <td>80.74</td>\n",
       "      <td>84</td>\n",
       "      <td>42</td>\n",
       "      <td>9.64</td>\n",
       "    </tr>\n",
       "    <tr>\n",
       "      <th>14</th>\n",
       "      <td>14</td>\n",
       "      <td>Panguna</td>\n",
       "      <td>PG</td>\n",
       "      <td>2021-07-24 00:55:55</td>\n",
       "      <td>-6.3164</td>\n",
       "      <td>155.4848</td>\n",
       "      <td>81.70</td>\n",
       "      <td>60</td>\n",
       "      <td>100</td>\n",
       "      <td>2.55</td>\n",
       "    </tr>\n",
       "    <tr>\n",
       "      <th>20</th>\n",
       "      <td>20</td>\n",
       "      <td>Hays</td>\n",
       "      <td>US</td>\n",
       "      <td>2021-07-24 00:55:57</td>\n",
       "      <td>30.0502</td>\n",
       "      <td>-98.0336</td>\n",
       "      <td>89.10</td>\n",
       "      <td>60</td>\n",
       "      <td>0</td>\n",
       "      <td>3.00</td>\n",
       "    </tr>\n",
       "    <tr>\n",
       "      <th>30</th>\n",
       "      <td>30</td>\n",
       "      <td>Hilo</td>\n",
       "      <td>US</td>\n",
       "      <td>2021-07-24 00:56:00</td>\n",
       "      <td>19.7297</td>\n",
       "      <td>-155.0900</td>\n",
       "      <td>88.29</td>\n",
       "      <td>94</td>\n",
       "      <td>97</td>\n",
       "      <td>3.00</td>\n",
       "    </tr>\n",
       "    <tr>\n",
       "      <th>33</th>\n",
       "      <td>33</td>\n",
       "      <td>Praia</td>\n",
       "      <td>CV</td>\n",
       "      <td>2021-07-24 00:54:33</td>\n",
       "      <td>14.9215</td>\n",
       "      <td>-23.5087</td>\n",
       "      <td>75.74</td>\n",
       "      <td>73</td>\n",
       "      <td>75</td>\n",
       "      <td>11.50</td>\n",
       "    </tr>\n",
       "    <tr>\n",
       "      <th>34</th>\n",
       "      <td>34</td>\n",
       "      <td>Banda Aceh</td>\n",
       "      <td>ID</td>\n",
       "      <td>2021-07-24 00:56:01</td>\n",
       "      <td>5.5577</td>\n",
       "      <td>95.3222</td>\n",
       "      <td>82.31</td>\n",
       "      <td>76</td>\n",
       "      <td>100</td>\n",
       "      <td>12.59</td>\n",
       "    </tr>\n",
       "    <tr>\n",
       "      <th>37</th>\n",
       "      <td>37</td>\n",
       "      <td>Vaini</td>\n",
       "      <td>TO</td>\n",
       "      <td>2021-07-24 00:56:02</td>\n",
       "      <td>-21.2000</td>\n",
       "      <td>-175.2000</td>\n",
       "      <td>80.76</td>\n",
       "      <td>83</td>\n",
       "      <td>40</td>\n",
       "      <td>5.75</td>\n",
       "    </tr>\n",
       "    <tr>\n",
       "      <th>38</th>\n",
       "      <td>38</td>\n",
       "      <td>Thinadhoo</td>\n",
       "      <td>MV</td>\n",
       "      <td>2021-07-24 00:56:03</td>\n",
       "      <td>0.5333</td>\n",
       "      <td>72.9333</td>\n",
       "      <td>82.06</td>\n",
       "      <td>77</td>\n",
       "      <td>60</td>\n",
       "      <td>9.78</td>\n",
       "    </tr>\n",
       "  </tbody>\n",
       "</table>\n",
       "</div>"
      ],
      "text/plain": [
       "    City_ID        City Country                 Date      Lat       Lng  \\\n",
       "1         1      Atuona      PF  2021-07-24 00:50:57  -9.8000 -139.0333   \n",
       "2         2    Hamilton      US  2021-07-24 00:54:13  39.1834  -84.5333   \n",
       "7         7     Samarai      PG  2021-07-24 00:55:53 -10.6167  150.6667   \n",
       "14       14     Panguna      PG  2021-07-24 00:55:55  -6.3164  155.4848   \n",
       "20       20        Hays      US  2021-07-24 00:55:57  30.0502  -98.0336   \n",
       "30       30        Hilo      US  2021-07-24 00:56:00  19.7297 -155.0900   \n",
       "33       33       Praia      CV  2021-07-24 00:54:33  14.9215  -23.5087   \n",
       "34       34  Banda Aceh      ID  2021-07-24 00:56:01   5.5577   95.3222   \n",
       "37       37       Vaini      TO  2021-07-24 00:56:02 -21.2000 -175.2000   \n",
       "38       38   Thinadhoo      MV  2021-07-24 00:56:03   0.5333   72.9333   \n",
       "\n",
       "    Max Temp  Humidity  Cloudiness  Wind Speed  \n",
       "1      77.02        78          25       11.14  \n",
       "2      78.89        77          13        3.62  \n",
       "7      80.74        84          42        9.64  \n",
       "14     81.70        60         100        2.55  \n",
       "20     89.10        60           0        3.00  \n",
       "30     88.29        94          97        3.00  \n",
       "33     75.74        73          75       11.50  \n",
       "34     82.31        76         100       12.59  \n",
       "37     80.76        83          40        5.75  \n",
       "38     82.06        77          60        9.78  "
      ]
     },
     "execution_count": 17,
     "metadata": {},
     "output_type": "execute_result"
    }
   ],
   "source": [
    "# Filter the dataset to find the cities that fit the criteria.\n",
    "\n",
    "preferred_cities_df = city_data_df.loc[(city_data_df[\"Max Temp\"] <= max_temp) & \\\n",
    "                                       (city_data_df[\"Max Temp\"] >= min_temp)]\n",
    "preferred_cities_df.head(10)"
   ]
  },
  {
   "cell_type": "code",
   "execution_count": 18,
   "id": "098f2412",
   "metadata": {},
   "outputs": [
    {
     "data": {
      "text/plain": [
       "City_ID       206\n",
       "City          206\n",
       "Country       206\n",
       "Date          206\n",
       "Lat           206\n",
       "Lng           206\n",
       "Max Temp      206\n",
       "Humidity      206\n",
       "Cloudiness    206\n",
       "Wind Speed    206\n",
       "dtype: int64"
      ]
     },
     "execution_count": 18,
     "metadata": {},
     "output_type": "execute_result"
    }
   ],
   "source": [
    "# Add the following code to a new cell and run the cell to determine if there are any null values.\n",
    "preferred_cities_df.count()"
   ]
  },
  {
   "cell_type": "code",
   "execution_count": 89,
   "id": "6467e351",
   "metadata": {},
   "outputs": [
    {
     "data": {
      "text/html": [
       "<div>\n",
       "<style scoped>\n",
       "    .dataframe tbody tr th:only-of-type {\n",
       "        vertical-align: middle;\n",
       "    }\n",
       "\n",
       "    .dataframe tbody tr th {\n",
       "        vertical-align: top;\n",
       "    }\n",
       "\n",
       "    .dataframe thead th {\n",
       "        text-align: right;\n",
       "    }\n",
       "</style>\n",
       "<table border=\"1\" class=\"dataframe\">\n",
       "  <thead>\n",
       "    <tr style=\"text-align: right;\">\n",
       "      <th></th>\n",
       "      <th>City</th>\n",
       "      <th>Country</th>\n",
       "      <th>Max Temp</th>\n",
       "      <th>Lat</th>\n",
       "      <th>Lng</th>\n",
       "      <th>Hotel Name</th>\n",
       "    </tr>\n",
       "  </thead>\n",
       "  <tbody>\n",
       "    <tr>\n",
       "      <th>1</th>\n",
       "      <td>Atuona</td>\n",
       "      <td>PF</td>\n",
       "      <td>77.02</td>\n",
       "      <td>-9.8000</td>\n",
       "      <td>-139.0333</td>\n",
       "      <td></td>\n",
       "    </tr>\n",
       "    <tr>\n",
       "      <th>2</th>\n",
       "      <td>Hamilton</td>\n",
       "      <td>US</td>\n",
       "      <td>78.89</td>\n",
       "      <td>39.1834</td>\n",
       "      <td>-84.5333</td>\n",
       "      <td></td>\n",
       "    </tr>\n",
       "    <tr>\n",
       "      <th>7</th>\n",
       "      <td>Samarai</td>\n",
       "      <td>PG</td>\n",
       "      <td>80.74</td>\n",
       "      <td>-10.6167</td>\n",
       "      <td>150.6667</td>\n",
       "      <td></td>\n",
       "    </tr>\n",
       "    <tr>\n",
       "      <th>14</th>\n",
       "      <td>Panguna</td>\n",
       "      <td>PG</td>\n",
       "      <td>81.70</td>\n",
       "      <td>-6.3164</td>\n",
       "      <td>155.4848</td>\n",
       "      <td></td>\n",
       "    </tr>\n",
       "    <tr>\n",
       "      <th>20</th>\n",
       "      <td>Hays</td>\n",
       "      <td>US</td>\n",
       "      <td>89.10</td>\n",
       "      <td>30.0502</td>\n",
       "      <td>-98.0336</td>\n",
       "      <td></td>\n",
       "    </tr>\n",
       "    <tr>\n",
       "      <th>30</th>\n",
       "      <td>Hilo</td>\n",
       "      <td>US</td>\n",
       "      <td>88.29</td>\n",
       "      <td>19.7297</td>\n",
       "      <td>-155.0900</td>\n",
       "      <td></td>\n",
       "    </tr>\n",
       "    <tr>\n",
       "      <th>33</th>\n",
       "      <td>Praia</td>\n",
       "      <td>CV</td>\n",
       "      <td>75.74</td>\n",
       "      <td>14.9215</td>\n",
       "      <td>-23.5087</td>\n",
       "      <td></td>\n",
       "    </tr>\n",
       "    <tr>\n",
       "      <th>34</th>\n",
       "      <td>Banda Aceh</td>\n",
       "      <td>ID</td>\n",
       "      <td>82.31</td>\n",
       "      <td>5.5577</td>\n",
       "      <td>95.3222</td>\n",
       "      <td></td>\n",
       "    </tr>\n",
       "    <tr>\n",
       "      <th>37</th>\n",
       "      <td>Vaini</td>\n",
       "      <td>TO</td>\n",
       "      <td>80.76</td>\n",
       "      <td>-21.2000</td>\n",
       "      <td>-175.2000</td>\n",
       "      <td></td>\n",
       "    </tr>\n",
       "    <tr>\n",
       "      <th>38</th>\n",
       "      <td>Thinadhoo</td>\n",
       "      <td>MV</td>\n",
       "      <td>82.06</td>\n",
       "      <td>0.5333</td>\n",
       "      <td>72.9333</td>\n",
       "      <td></td>\n",
       "    </tr>\n",
       "  </tbody>\n",
       "</table>\n",
       "</div>"
      ],
      "text/plain": [
       "          City Country  Max Temp      Lat       Lng Hotel Name\n",
       "1       Atuona      PF     77.02  -9.8000 -139.0333           \n",
       "2     Hamilton      US     78.89  39.1834  -84.5333           \n",
       "7      Samarai      PG     80.74 -10.6167  150.6667           \n",
       "14     Panguna      PG     81.70  -6.3164  155.4848           \n",
       "20        Hays      US     89.10  30.0502  -98.0336           \n",
       "30        Hilo      US     88.29  19.7297 -155.0900           \n",
       "33       Praia      CV     75.74  14.9215  -23.5087           \n",
       "34  Banda Aceh      ID     82.31   5.5577   95.3222           \n",
       "37       Vaini      TO     80.76 -21.2000 -175.2000           \n",
       "38   Thinadhoo      MV     82.06   0.5333   72.9333           "
      ]
     },
     "execution_count": 89,
     "metadata": {},
     "output_type": "execute_result"
    }
   ],
   "source": [
    "# We'll need to create a new DataFrame specifically for the data needed to create a heatmap and pop-up markers\n",
    "# Create DataFrame called hotel_df to store hotel names along with city, country, max temp, and coordinates.\n",
    "\n",
    "hotel_df = preferred_cities_df[[\"City\", \"Country\", \"Max Temp\", \"Lat\", \"Lng\"]].copy()\n",
    "hotel_df[\"Hotel Name\"] = \"\"\n",
    "hotel_df.head(10)"
   ]
  },
  {
   "cell_type": "code",
   "execution_count": 96,
   "id": "8631c19f",
   "metadata": {},
   "outputs": [],
   "source": [
    "# Retrieve Hotels from a Nearby Search\n",
    "# 1. Set the Parameters for a Nearby Search\n",
    "\n",
    "# Dependencies and Setup\n",
    "import requests\n",
    "import gmaps\n",
    "\n",
    "# Import API key\n",
    "from config import g_key\n",
    "\n",
    "# Set the Parameters for a Nearby Search\n",
    "params = {\n",
    "    \"radius\": 5000,\n",
    "    \"types\": \"lodging\",\n",
    "    \"key\": g_key,\n",
    "}\n"
   ]
  },
  {
   "cell_type": "code",
   "execution_count": 103,
   "id": "2e45121f",
   "metadata": {},
   "outputs": [
    {
     "name": "stdout",
     "output_type": "stream",
     "text": [
      "Hotel not found... skipping.\n",
      "Hotel not found... skipping.\n",
      "Hotel not found... skipping.\n",
      "Hotel not found... skipping.\n",
      "Hotel not found... skipping.\n",
      "Hotel not found... skipping.\n",
      "Hotel not found... skipping.\n",
      "Hotel not found... skipping.\n",
      "Hotel not found... skipping.\n",
      "Hotel not found... skipping.\n",
      "Hotel not found... skipping.\n",
      "Hotel not found... skipping.\n",
      "Hotel not found... skipping.\n",
      "Hotel not found... skipping.\n"
     ]
    }
   ],
   "source": [
    "\n",
    "# Iterate Through hotel_df DataFrame\n",
    "# We can use the iterrows() function to perform the iteration\n",
    "\n",
    "for index, row in hotel_df.iterrows():\n",
    "    # Get the latitude and longitude.\n",
    "    lat = row[\"Lat\"]\n",
    "    lng = row[\"Lng\"]\n",
    "\n",
    "    # Add the latitude and longitude to location key for the params dictionary.\n",
    "    params[\"location\"] = f\"{lat},{lng}\"\n",
    "\n",
    "    # Use the search term: \"lodging\" and our latitude and longitude.\n",
    "    base_url = \"https://maps.googleapis.com/maps/api/place/nearbysearch/json\"\n",
    "    # Make request and get the JSON data from the search.\n",
    "    hotels = requests.get(base_url, params=params).json()\n",
    "    \n",
    "# Let's modify the last piece of code and make a try-exceptblock to handle the IndexError\n",
    "    # Grab the first hotel from the results and store the name.\n",
    "    try:\n",
    "        hotel_df.loc[index, \"Hotel Name\"] = hotels[\"results\"][0][\"name\"]\n",
    "    except (IndexError):\n",
    "        print(\"Hotel not found... skipping.\")"
   ]
  },
  {
   "cell_type": "code",
   "execution_count": 104,
   "id": "733ce402",
   "metadata": {
    "scrolled": true
   },
   "outputs": [
    {
     "data": {
      "text/plain": [
       "City          206\n",
       "Country       206\n",
       "Max Temp      206\n",
       "Lat           206\n",
       "Lng           206\n",
       "Hotel Name    206\n",
       "dtype: int64"
      ]
     },
     "execution_count": 104,
     "metadata": {},
     "output_type": "execute_result"
    }
   ],
   "source": [
    "hotel_df.count()"
   ]
  },
  {
   "cell_type": "code",
   "execution_count": 106,
   "id": "e2aab159",
   "metadata": {},
   "outputs": [
    {
     "data": {
      "text/html": [
       "<div>\n",
       "<style scoped>\n",
       "    .dataframe tbody tr th:only-of-type {\n",
       "        vertical-align: middle;\n",
       "    }\n",
       "\n",
       "    .dataframe tbody tr th {\n",
       "        vertical-align: top;\n",
       "    }\n",
       "\n",
       "    .dataframe thead th {\n",
       "        text-align: right;\n",
       "    }\n",
       "</style>\n",
       "<table border=\"1\" class=\"dataframe\">\n",
       "  <thead>\n",
       "    <tr style=\"text-align: right;\">\n",
       "      <th></th>\n",
       "      <th>City</th>\n",
       "      <th>Country</th>\n",
       "      <th>Max Temp</th>\n",
       "      <th>Lat</th>\n",
       "      <th>Lng</th>\n",
       "      <th>Hotel Name</th>\n",
       "    </tr>\n",
       "  </thead>\n",
       "  <tbody>\n",
       "    <tr>\n",
       "      <th>1</th>\n",
       "      <td>Atuona</td>\n",
       "      <td>PF</td>\n",
       "      <td>77.02</td>\n",
       "      <td>-9.8000</td>\n",
       "      <td>-139.0333</td>\n",
       "      <td>Villa Enata</td>\n",
       "    </tr>\n",
       "    <tr>\n",
       "      <th>2</th>\n",
       "      <td>Hamilton</td>\n",
       "      <td>US</td>\n",
       "      <td>78.89</td>\n",
       "      <td>39.1834</td>\n",
       "      <td>-84.5333</td>\n",
       "      <td>Six Acres Bed &amp; Breakfast</td>\n",
       "    </tr>\n",
       "    <tr>\n",
       "      <th>7</th>\n",
       "      <td>Samarai</td>\n",
       "      <td>PG</td>\n",
       "      <td>80.74</td>\n",
       "      <td>-10.6167</td>\n",
       "      <td>150.6667</td>\n",
       "      <td>Nuli Sapi</td>\n",
       "    </tr>\n",
       "    <tr>\n",
       "      <th>14</th>\n",
       "      <td>Panguna</td>\n",
       "      <td>PG</td>\n",
       "      <td>81.70</td>\n",
       "      <td>-6.3164</td>\n",
       "      <td>155.4848</td>\n",
       "      <td></td>\n",
       "    </tr>\n",
       "    <tr>\n",
       "      <th>20</th>\n",
       "      <td>Hays</td>\n",
       "      <td>US</td>\n",
       "      <td>89.10</td>\n",
       "      <td>30.0502</td>\n",
       "      <td>-98.0336</td>\n",
       "      <td>Sinya on Lone Man Creek</td>\n",
       "    </tr>\n",
       "    <tr>\n",
       "      <th>...</th>\n",
       "      <td>...</td>\n",
       "      <td>...</td>\n",
       "      <td>...</td>\n",
       "      <td>...</td>\n",
       "      <td>...</td>\n",
       "      <td>...</td>\n",
       "    </tr>\n",
       "    <tr>\n",
       "      <th>543</th>\n",
       "      <td>Sevierville</td>\n",
       "      <td>US</td>\n",
       "      <td>81.14</td>\n",
       "      <td>35.8681</td>\n",
       "      <td>-83.5618</td>\n",
       "      <td>The Lodge at Five Oaks</td>\n",
       "    </tr>\n",
       "    <tr>\n",
       "      <th>546</th>\n",
       "      <td>Yunyang</td>\n",
       "      <td>CN</td>\n",
       "      <td>80.78</td>\n",
       "      <td>33.4474</td>\n",
       "      <td>112.7142</td>\n",
       "      <td>Post &amp; Telecom Hotel</td>\n",
       "    </tr>\n",
       "    <tr>\n",
       "      <th>548</th>\n",
       "      <td>Kahului</td>\n",
       "      <td>US</td>\n",
       "      <td>85.26</td>\n",
       "      <td>20.8947</td>\n",
       "      <td>-156.4700</td>\n",
       "      <td>Maui Seaside Hotel</td>\n",
       "    </tr>\n",
       "    <tr>\n",
       "      <th>550</th>\n",
       "      <td>Caucaia</td>\n",
       "      <td>BR</td>\n",
       "      <td>80.55</td>\n",
       "      <td>-3.7361</td>\n",
       "      <td>-38.6531</td>\n",
       "      <td>M.O.S. Logística - Filial Fortaleza</td>\n",
       "    </tr>\n",
       "    <tr>\n",
       "      <th>552</th>\n",
       "      <td>San-Pedro</td>\n",
       "      <td>CI</td>\n",
       "      <td>75.81</td>\n",
       "      <td>4.7485</td>\n",
       "      <td>-6.6363</td>\n",
       "      <td>Hotel Maria</td>\n",
       "    </tr>\n",
       "  </tbody>\n",
       "</table>\n",
       "<p>206 rows × 6 columns</p>\n",
       "</div>"
      ],
      "text/plain": [
       "            City Country  Max Temp      Lat       Lng  \\\n",
       "1         Atuona      PF     77.02  -9.8000 -139.0333   \n",
       "2       Hamilton      US     78.89  39.1834  -84.5333   \n",
       "7        Samarai      PG     80.74 -10.6167  150.6667   \n",
       "14       Panguna      PG     81.70  -6.3164  155.4848   \n",
       "20          Hays      US     89.10  30.0502  -98.0336   \n",
       "..           ...     ...       ...      ...       ...   \n",
       "543  Sevierville      US     81.14  35.8681  -83.5618   \n",
       "546      Yunyang      CN     80.78  33.4474  112.7142   \n",
       "548      Kahului      US     85.26  20.8947 -156.4700   \n",
       "550      Caucaia      BR     80.55  -3.7361  -38.6531   \n",
       "552    San-Pedro      CI     75.81   4.7485   -6.6363   \n",
       "\n",
       "                              Hotel Name  \n",
       "1                            Villa Enata  \n",
       "2              Six Acres Bed & Breakfast  \n",
       "7                              Nuli Sapi  \n",
       "14                                        \n",
       "20               Sinya on Lone Man Creek  \n",
       "..                                   ...  \n",
       "543               The Lodge at Five Oaks  \n",
       "546                 Post & Telecom Hotel  \n",
       "548                   Maui Seaside Hotel  \n",
       "550  M.O.S. Logística - Filial Fortaleza  \n",
       "552                          Hotel Maria  \n",
       "\n",
       "[206 rows x 6 columns]"
      ]
     },
     "execution_count": 106,
     "metadata": {},
     "output_type": "execute_result"
    }
   ],
   "source": [
    "hotel_df"
   ]
  },
  {
   "cell_type": "code",
   "execution_count": 109,
   "id": "8269c625",
   "metadata": {},
   "outputs": [
    {
     "data": {
      "application/vnd.jupyter.widget-view+json": {
       "model_id": "f7eb0669bb7444249f4d51f20ffc5a40",
       "version_major": 2,
       "version_minor": 0
      },
      "text/plain": [
       "Figure(layout=FigureLayout(height='420px'))"
      ]
     },
     "metadata": {},
     "output_type": "display_data"
    }
   ],
   "source": [
    "\n",
    "# Add a heatmap of temperature for the vacation spots and marker for each city.\n",
    "locations = hotel_df[[\"Lat\", \"Lng\"]]\n",
    "max_temp = hotel_df[\"Max Temp\"]\n",
    "fig = gmaps.figure(center=(30.0, 31.0), zoom_level=1.5)\n",
    "heat_layer = gmaps.heatmap_layer(locations, weights=max_temp,\n",
    "             dissipating=False, max_intensity=300, point_radius=4)\n",
    "#Let's add the markers for each city on top of the heatmap.\n",
    "marker_layer = gmaps.marker_layer(locations)\n",
    "fig.add_layer(heat_layer)\n",
    "fig.add_layer(marker_layer)\n",
    "\n",
    "# Call the figure to plot the data.\n",
    "fig"
   ]
  },
  {
   "cell_type": "code",
   "execution_count": 111,
   "id": "3a656f96",
   "metadata": {},
   "outputs": [],
   "source": [
    "# Now we can add a pop-up marker for each city that displays the hotel name, city name, country, and maximum temperature.\n",
    "\n",
    "\n",
    "info_box_template = \"\"\"\n",
    "<dl>\n",
    "<dt>Hotel Name</dt><dd>{Hotel Name}</dd>\n",
    "<dt>City</dt><dd>{City}</dd>\n",
    "<dt>Country</dt><dd>{Country}</dd>\n",
    "<dt>Max Temp</dt><dd>{Max Temp} °F</dd>\n",
    "</dl>\n",
    "\"\"\""
   ]
  },
  {
   "cell_type": "code",
   "execution_count": 112,
   "id": "1e684aec",
   "metadata": {},
   "outputs": [],
   "source": [
    "# Store the DataFrame Row.\n",
    "hotel_info = [info_box_template.format(**row) for index, row in hotel_df.iterrows()]\n",
    "\n",
    "# En la comprensión de la lista, info_box_template.format(**row) for index, row in hotel_df.iterrows(), \n",
    "# iteramos a través de cada \"fila\" del DataFrame de hotel_df y luego formateamos la info_box_template con \n",
    "# los datos que establecimos para rellenar la de cada fila."
   ]
  },
  {
   "cell_type": "code",
   "execution_count": 114,
   "id": "4cbe6c26",
   "metadata": {},
   "outputs": [
    {
     "data": {
      "application/vnd.jupyter.widget-view+json": {
       "model_id": "1820d174d8814f409dc77b49f517d7ec",
       "version_major": 2,
       "version_minor": 0
      },
      "text/plain": [
       "Figure(layout=FigureLayout(height='420px'))"
      ]
     },
     "metadata": {},
     "output_type": "display_data"
    }
   ],
   "source": [
    "\n",
    "# Add a heatmap of temperature for the vacation spots and marker for each city.\n",
    "locations = hotel_df[[\"Lat\", \"Lng\"]]\n",
    "max_temp = hotel_df[\"Max Temp\"]\n",
    "fig = gmaps.figure(center=(30.0, 31.0), zoom_level=1.5)\n",
    "heat_layer = gmaps.heatmap_layer(locations, weights=max_temp,\n",
    "             dissipating=False, max_intensity=300, point_radius=4)\n",
    "#Let's add the markers for each city on top of the heatmap.\n",
    "marker_layer = gmaps.marker_layer(locations, info_box_content=hotel_info)\n",
    "fig.add_layer(heat_layer)\n",
    "fig.add_layer(marker_layer)\n",
    "\n",
    "# Call the figure to plot the data.\n",
    "fig"
   ]
  },
  {
   "cell_type": "code",
   "execution_count": null,
   "id": "8d03fe82",
   "metadata": {},
   "outputs": [],
   "source": []
  }
 ],
 "metadata": {
  "kernelspec": {
   "display_name": "PythonData",
   "language": "python",
   "name": "pythondata"
  },
  "language_info": {
   "codemirror_mode": {
    "name": "ipython",
    "version": 3
   },
   "file_extension": ".py",
   "mimetype": "text/x-python",
   "name": "python",
   "nbconvert_exporter": "python",
   "pygments_lexer": "ipython3",
   "version": "3.7.10"
  }
 },
 "nbformat": 4,
 "nbformat_minor": 5
}
